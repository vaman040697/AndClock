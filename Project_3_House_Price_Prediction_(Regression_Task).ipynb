{
  "nbformat": 4,
  "nbformat_minor": 0,
  "metadata": {
    "colab": {
      "provenance": [],
      "collapsed_sections": [
        "PV_odLX1HNst",
        "-dV9gyGvHbam",
        "3lPgdLqdHkT1",
        "pfLJDQ2cZ8PP"
      ],
      "gpuType": "T4",
      "authorship_tag": "ABX9TyOVBKMzbBdlYaRgQyOySyPS",
      "include_colab_link": true
    },
    "kernelspec": {
      "name": "python3",
      "display_name": "Python 3"
    },
    "language_info": {
      "name": "python"
    },
    "accelerator": "GPU"
  },
  "cells": [
    {
      "cell_type": "markdown",
      "metadata": {
        "id": "view-in-github",
        "colab_type": "text"
      },
      "source": [
        "<a href=\"https://colab.research.google.com/github/vaman040697/AndClock/blob/main/Project_3_House_Price_Prediction_(Regression_Task).ipynb\" target=\"_parent\"><img src=\"https://colab.research.google.com/assets/colab-badge.svg\" alt=\"Open In Colab\"/></a>"
      ]
    },
    {
      "cell_type": "code",
      "source": [
        "import os\n",
        "\n",
        "# Define the directory path\n",
        "directory_path = '/content/Area'\n",
        "\n",
        "# Create the directory\n",
        "os.makedirs(directory_path, exist_ok=True)"
      ],
      "metadata": {
        "id": "q2uCln3O8NiP"
      },
      "execution_count": 1,
      "outputs": []
    },
    {
      "cell_type": "code",
      "source": [
        "%cd /content/Area"
      ],
      "metadata": {
        "colab": {
          "base_uri": "https://localhost:8080/"
        },
        "id": "ztN_L-E49JGF",
        "outputId": "9d450d03-3b6c-4286-eeff-4fb2bf05124e"
      },
      "execution_count": 2,
      "outputs": [
        {
          "output_type": "stream",
          "name": "stdout",
          "text": [
            "/content/Area\n"
          ]
        }
      ]
    },
    {
      "cell_type": "code",
      "source": [
        "# Print the current working directory\n",
        "import os\n",
        "print(\"Current Working Directory:\", os.getcwd())"
      ],
      "metadata": {
        "colab": {
          "base_uri": "https://localhost:8080/"
        },
        "id": "cY7ARLjD8OC_",
        "outputId": "d8533315-7e82-4653-d8da-b8fb10fa2ac3"
      },
      "execution_count": 3,
      "outputs": [
        {
          "output_type": "stream",
          "name": "stdout",
          "text": [
            "Current Working Directory: /content/Area\n"
          ]
        }
      ]
    },
    {
      "cell_type": "markdown",
      "source": [
        "# Step 1: Connect the Dataset from Google Drive"
      ],
      "metadata": {
        "id": "1xfdWvBw5H5d"
      }
    },
    {
      "cell_type": "code",
      "source": [
        "from google.colab import drive\n",
        "drive.mount('/content/drive')"
      ],
      "metadata": {
        "colab": {
          "base_uri": "https://localhost:8080/"
        },
        "id": "FumJ2NE75Npw",
        "outputId": "ec6158b5-75eb-48e8-ea8c-706557cac1f7"
      },
      "execution_count": 4,
      "outputs": [
        {
          "output_type": "stream",
          "name": "stdout",
          "text": [
            "Mounted at /content/drive\n"
          ]
        }
      ]
    },
    {
      "cell_type": "code",
      "source": [
        "from google.colab import drive\n",
        "import zipfile\n",
        "import os\n",
        "\n",
        "# Replace 'anime' with the folder where you want to extract the contents\n",
        "extracted_folder_path = '/content/drive/My Drive/house_dataset'"
      ],
      "metadata": {
        "id": "JcZaB_738SRl"
      },
      "execution_count": 5,
      "outputs": []
    },
    {
      "cell_type": "markdown",
      "source": [
        "# Step 2: Importing necessary Libraries"
      ],
      "metadata": {
        "id": "wXREJ2lM5Sij"
      }
    },
    {
      "cell_type": "code",
      "source": [
        "import pandas as pd\n",
        "import numpy as np\n",
        "import seaborn as sns\n",
        "import matplotlib.pyplot as plt\n",
        "from sklearn.model_selection import train_test_split\n",
        "from sklearn.ensemble import RandomForestRegressor\n",
        "from sklearn.metrics import mean_squared_error\n",
        "from sklearn.impute import SimpleImputer\n",
        "from sklearn.preprocessing import LabelEncoder"
      ],
      "metadata": {
        "id": "PHqIXZTT5Y_R"
      },
      "execution_count": 6,
      "outputs": []
    },
    {
      "cell_type": "markdown",
      "source": [
        "# Step 3: Load and Explore the Dataset"
      ],
      "metadata": {
        "id": "m7MP1bFa5cJC"
      }
    },
    {
      "cell_type": "code",
      "source": [
        "# Load the dataset\n",
        "df = pd.read_csv('/content/drive/My Drive/house_dataset/train.csv')\n",
        "\n",
        "# Check for missing values and basic info\n",
        "print(df.isnull().sum())\n",
        "print(df.describe())\n",
        "\n",
        "# Visualize the distribution of the target variable (SalePrice)\n",
        "sns.histplot(df['SalePrice'], kde=True)\n",
        "plt.title('Distribution of Sale Prices')\n",
        "plt.show()"
      ],
      "metadata": {
        "colab": {
          "base_uri": "https://localhost:8080/",
          "height": 1000
        },
        "id": "TL5kFktm5ghH",
        "outputId": "46fb17c5-09ee-4a45-8c6f-89cd826bd616"
      },
      "execution_count": 7,
      "outputs": [
        {
          "output_type": "stream",
          "name": "stdout",
          "text": [
            "Id                 0\n",
            "MSSubClass         0\n",
            "MSZoning           0\n",
            "LotFrontage      259\n",
            "LotArea            0\n",
            "                ... \n",
            "MoSold             0\n",
            "YrSold             0\n",
            "SaleType           0\n",
            "SaleCondition      0\n",
            "SalePrice          0\n",
            "Length: 81, dtype: int64\n",
            "                Id   MSSubClass  LotFrontage        LotArea  OverallQual  \\\n",
            "count  1460.000000  1460.000000  1201.000000    1460.000000  1460.000000   \n",
            "mean    730.500000    56.897260    70.049958   10516.828082     6.099315   \n",
            "std     421.610009    42.300571    24.284752    9981.264932     1.382997   \n",
            "min       1.000000    20.000000    21.000000    1300.000000     1.000000   \n",
            "25%     365.750000    20.000000    59.000000    7553.500000     5.000000   \n",
            "50%     730.500000    50.000000    69.000000    9478.500000     6.000000   \n",
            "75%    1095.250000    70.000000    80.000000   11601.500000     7.000000   \n",
            "max    1460.000000   190.000000   313.000000  215245.000000    10.000000   \n",
            "\n",
            "       OverallCond    YearBuilt  YearRemodAdd   MasVnrArea   BsmtFinSF1  ...  \\\n",
            "count  1460.000000  1460.000000   1460.000000  1452.000000  1460.000000  ...   \n",
            "mean      5.575342  1971.267808   1984.865753   103.685262   443.639726  ...   \n",
            "std       1.112799    30.202904     20.645407   181.066207   456.098091  ...   \n",
            "min       1.000000  1872.000000   1950.000000     0.000000     0.000000  ...   \n",
            "25%       5.000000  1954.000000   1967.000000     0.000000     0.000000  ...   \n",
            "50%       5.000000  1973.000000   1994.000000     0.000000   383.500000  ...   \n",
            "75%       6.000000  2000.000000   2004.000000   166.000000   712.250000  ...   \n",
            "max       9.000000  2010.000000   2010.000000  1600.000000  5644.000000  ...   \n",
            "\n",
            "        WoodDeckSF  OpenPorchSF  EnclosedPorch    3SsnPorch  ScreenPorch  \\\n",
            "count  1460.000000  1460.000000    1460.000000  1460.000000  1460.000000   \n",
            "mean     94.244521    46.660274      21.954110     3.409589    15.060959   \n",
            "std     125.338794    66.256028      61.119149    29.317331    55.757415   \n",
            "min       0.000000     0.000000       0.000000     0.000000     0.000000   \n",
            "25%       0.000000     0.000000       0.000000     0.000000     0.000000   \n",
            "50%       0.000000    25.000000       0.000000     0.000000     0.000000   \n",
            "75%     168.000000    68.000000       0.000000     0.000000     0.000000   \n",
            "max     857.000000   547.000000     552.000000   508.000000   480.000000   \n",
            "\n",
            "          PoolArea       MiscVal       MoSold       YrSold      SalePrice  \n",
            "count  1460.000000   1460.000000  1460.000000  1460.000000    1460.000000  \n",
            "mean      2.758904     43.489041     6.321918  2007.815753  180921.195890  \n",
            "std      40.177307    496.123024     2.703626     1.328095   79442.502883  \n",
            "min       0.000000      0.000000     1.000000  2006.000000   34900.000000  \n",
            "25%       0.000000      0.000000     5.000000  2007.000000  129975.000000  \n",
            "50%       0.000000      0.000000     6.000000  2008.000000  163000.000000  \n",
            "75%       0.000000      0.000000     8.000000  2009.000000  214000.000000  \n",
            "max     738.000000  15500.000000    12.000000  2010.000000  755000.000000  \n",
            "\n",
            "[8 rows x 38 columns]\n"
          ]
        },
        {
          "output_type": "display_data",
          "data": {
            "text/plain": [
              "<Figure size 640x480 with 1 Axes>"
            ],
            "image/png": "[encoded data removed]"
          },
          "metadata": {}
        }
      ]
    },
    {
      "cell_type": "markdown",
      "source": [
        "# Step 4: Data Preprocessing"
      ],
      "metadata": {
        "id": "4Qj8xO6q5irg"
      }
    },
    {
      "cell_type": "code",
      "source": [
        "# Fill missing values with median or mode\n",
        "df['LotFrontage'].fillna(df['LotFrontage'].median(), inplace=True)\n",
        "df['GarageType'].fillna('None', inplace=True)\n",
        "\n",
        "# Drop columns with too many missing values or irrelevant data\n",
        "df.drop(['Alley', 'PoolQC', 'Fence', 'MiscFeature', 'FireplaceQu'], axis=1, inplace=True)\n",
        "\n",
        "# Convert categorical features into numerical\n",
        "df = pd.get_dummies(df, drop_first=True)\n",
        "\n",
        "# Separate features and target variable\n",
        "X = df.drop('SalePrice', axis=1)\n",
        "y = df['SalePrice']"
      ],
      "metadata": {
        "id": "hKghpY6G5mcJ"
      },
      "execution_count": 12,
      "outputs": []
    },
    {
      "cell_type": "markdown",
      "source": [
        "# Step 5: Split Data and Train a Regression Model"
      ],
      "metadata": {
        "id": "CM3wRlMD5q8Z"
      }
    },
    {
      "cell_type": "code",
      "source": [
        "# Split the data into training and testing sets before imputation\n",
        "X_train, X_test, y_train, y_test = train_test_split(X, y, test_size=0.2, random_state=42)\n",
        "\n",
        "# Apply imputation separately on X_train and X_test\n",
        "imputer = SimpleImputer(strategy='mean')\n",
        "X_train = imputer.fit_transform(X_train)  # Impute missing values in training set\n",
        "X_test = imputer.transform(X_test)  # Impute missing values in test set\n",
        "\n",
        "# Convert X_train and X_test back to DataFrames to preserve column names\n",
        "X_train = pd.DataFrame(X_train, columns=X.columns)\n",
        "X_test = pd.DataFrame(X_test, columns=X.columns)\n",
        "\n",
        "# Drop the 'Id' column from X_train and X_test if it exists\n",
        "if 'Id' in X_train.columns:\n",
        "    X_train = X_train.drop(columns=['Id'])\n",
        "if 'Id' in X_test.columns:\n",
        "    X_test = X_test.drop(columns=['Id'])\n",
        "\n",
        "# Check for any remaining NaN values (should be 0 after imputation)\n",
        "print(\"Number of missing values in X_train after imputation:\", X_train.isnull().sum().sum())\n",
        "print(\"Number of missing values in X_test after imputation:\", X_test.isnull().sum().sum())\n",
        "\n",
        "# Train a RandomForestRegressor model\n",
        "model = RandomForestRegressor(n_estimators=100, random_state=42)\n",
        "model.fit(X_train, y_train)"
      ],
      "metadata": {
        "colab": {
          "base_uri": "https://localhost:8080/",
          "height": 108
        },
        "id": "uQfFkx_M5vXG",
        "outputId": "a952f27b-3c47-45d1-8d19-b6613b04dbe1"
      },
      "execution_count": 13,
      "outputs": [
        {
          "output_type": "stream",
          "name": "stdout",
          "text": [
            "Number of missing values in X_train after imputation: 0\n",
            "Number of missing values in X_test after imputation: 0\n"
          ]
        },
        {
          "output_type": "execute_result",
          "data": {
            "text/plain": [
              "RandomForestRegressor(random_state=42)"
            ],
            "text/html": [
              "<style>#sk-container-id-1 {color: black;}#sk-container-id-1 pre{padding: 0;}#sk-container-id-1 div.sk-toggleable {background-color: white;}#sk-container-id-1 label.sk-toggleable__label {cursor: pointer;display: block;width: 100%;margin-bottom: 0;padding: 0.3em;box-sizing: border-box;text-align: center;}#sk-container-id-1 label.sk-toggleable__label-arrow:before {content: \"▸\";float: left;margin-right: 0.25em;color: #696969;}#sk-container-id-1 label.sk-toggleable__label-arrow:hover:before {color: black;}#sk-container-id-1 div.sk-estimator:hover label.sk-toggleable__label-arrow:before {color: black;}#sk-container-id-1 div.sk-toggleable__content {max-height: 0;max-width: 0;overflow: hidden;text-align: left;background-color: #f0f8ff;}#sk-container-id-1 div.sk-toggleable__content pre {margin: 0.2em;color: black;border-radius: 0.25em;background-color: #f0f8ff;}#sk-container-id-1 input.sk-toggleable__control:checked~div.sk-toggleable__content {max-height: 200px;max-width: 100%;overflow: auto;}#sk-container-id-1 input.sk-toggleable__control:checked~label.sk-toggleable__label-arrow:before {content: \"▾\";}#sk-container-id-1 div.sk-estimator input.sk-toggleable__control:checked~label.sk-toggleable__label {background-color: #d4ebff;}#sk-container-id-1 div.sk-label input.sk-toggleable__control:checked~label.sk-toggleable__label {background-color: #d4ebff;}#sk-container-id-1 input.sk-hidden--visually {border: 0;clip: rect(1px 1px 1px 1px);clip: rect(1px, 1px, 1px, 1px);height: 1px;margin: -1px;overflow: hidden;padding: 0;position: absolute;width: 1px;}#sk-container-id-1 div.sk-estimator {font-family: monospace;background-color: #f0f8ff;border: 1px dotted black;border-radius: 0.25em;box-sizing: border-box;margin-bottom: 0.5em;}#sk-container-id-1 div.sk-estimator:hover {background-color: #d4ebff;}#sk-container-id-1 div.sk-parallel-item::after {content: \"\";width: 100%;border-bottom: 1px solid gray;flex-grow: 1;}#sk-container-id-1 div.sk-label:hover label.sk-toggleable__label {background-color: #d4ebff;}#sk-container-id-1 div.sk-serial::before {content: \"\";position: absolute;border-left: 1px solid gray;box-sizing: border-box;top: 0;bottom: 0;left: 50%;z-index: 0;}#sk-container-id-1 div.sk-serial {display: flex;flex-direction: column;align-items: center;background-color: white;padding-right: 0.2em;padding-left: 0.2em;position: relative;}#sk-container-id-1 div.sk-item {position: relative;z-index: 1;}#sk-container-id-1 div.sk-parallel {display: flex;align-items: stretch;justify-content: center;background-color: white;position: relative;}#sk-container-id-1 div.sk-item::before, #sk-container-id-1 div.sk-parallel-item::before {content: \"\";position: absolute;border-left: 1px solid gray;box-sizing: border-box;top: 0;bottom: 0;left: 50%;z-index: -1;}#sk-container-id-1 div.sk-parallel-item {display: flex;flex-direction: column;z-index: 1;position: relative;background-color: white;}#sk-container-id-1 div.sk-parallel-item:first-child::after {align-self: flex-end;width: 50%;}#sk-container-id-1 div.sk-parallel-item:last-child::after {align-self: flex-start;width: 50%;}#sk-container-id-1 div.sk-parallel-item:only-child::after {width: 0;}#sk-container-id-1 div.sk-dashed-wrapped {border: 1px dashed gray;margin: 0 0.4em 0.5em 0.4em;box-sizing: border-box;padding-bottom: 0.4em;background-color: white;}#sk-container-id-1 div.sk-label label {font-family: monospace;font-weight: bold;display: inline-block;line-height: 1.2em;}#sk-container-id-1 div.sk-label-container {text-align: center;}#sk-container-id-1 div.sk-container {/* jupyter's `normalize.less` sets `[hidden] { display: none; }` but bootstrap.min.css set `[hidden] { display: none !important; }` so we also need the `!important` here to be able to override the default hidden behavior on the sphinx rendered scikit-learn.org. See: https://github.com/scikit-learn/scikit-learn/issues/21755 */display: inline-block !important;position: relative;}#sk-container-id-1 div.sk-text-repr-fallback {display: none;}</style><div id=\"sk-container-id-1\" class=\"sk-top-container\"><div class=\"sk-text-repr-fallback\"><pre>RandomForestRegressor(random_state=42)</pre><b>In a Jupyter environment, please rerun this cell to show the HTML representation or trust the notebook. <br />On GitHub, the HTML representation is unable to render, please try loading this page with nbviewer.org.</b></div><div class=\"sk-container\" hidden><div class=\"sk-item\"><div class=\"sk-estimator sk-toggleable\"><input class=\"sk-toggleable__control sk-hidden--visually\" id=\"sk-estimator-id-1\" type=\"checkbox\" checked><label for=\"sk-estimator-id-1\" class=\"sk-toggleable__label sk-toggleable__label-arrow\">RandomForestRegressor</label><div class=\"sk-toggleable__content\"><pre>RandomForestRegressor(random_state=42)</pre></div></div></div></div></div>"
            ]
          },
          "metadata": {},
          "execution_count": 13
        }
      ]
    },
    {
      "cell_type": "code",
      "source": [
        "# Check for any remaining NaN values\n",
        "print(\"Number of missing values in X_train after imputation:\", np.isnan(X_train).sum())\n",
        "print(\"Number of missing values in X_test after imputation:\", np.isnan(X_test).sum())\n"
      ],
      "metadata": {
        "colab": {
          "base_uri": "https://localhost:8080/"
        },
        "id": "M-OPxF9S976C",
        "outputId": "737e3a54-3c60-483d-c032-78e7418cd737"
      },
      "execution_count": 27,
      "outputs": [
        {
          "output_type": "stream",
          "name": "stdout",
          "text": [
            "Number of missing values in X_train after imputation: MSSubClass               0\n",
            "LotFrontage              0\n",
            "LotArea                  0\n",
            "OverallQual              0\n",
            "OverallCond              0\n",
            "                        ..\n",
            "SaleCondition_AdjLand    0\n",
            "SaleCondition_Alloca     0\n",
            "SaleCondition_Family     0\n",
            "SaleCondition_Normal     0\n",
            "SaleCondition_Partial    0\n",
            "Length: 232, dtype: int64\n",
            "Number of missing values in X_test after imputation: MSSubClass               0\n",
            "LotFrontage              0\n",
            "LotArea                  0\n",
            "OverallQual              0\n",
            "OverallCond              0\n",
            "                        ..\n",
            "SaleCondition_AdjLand    0\n",
            "SaleCondition_Alloca     0\n",
            "SaleCondition_Family     0\n",
            "SaleCondition_Normal     0\n",
            "SaleCondition_Partial    0\n",
            "Length: 232, dtype: int64\n"
          ]
        }
      ]
    },
    {
      "cell_type": "markdown",
      "source": [
        "# Step 5: Evaluate the Model"
      ],
      "metadata": {
        "id": "uSjgDaGP57Mn"
      }
    },
    {
      "cell_type": "code",
      "source": [
        "# Make predictions\n",
        "y_pred = model.predict(X_test)\n",
        "\n",
        "# Calculate the mean squared error\n",
        "mse = mean_squared_error(y_test, y_pred)\n",
        "print(f'Mean Squared Error: {mse}')\n",
        "\n",
        "# Visualize predictions vs actual values\n",
        "plt.scatter(y_test, y_pred)\n",
        "plt.xlabel('Actual Prices')\n",
        "plt.ylabel('Predicted Prices')\n",
        "plt.title('Actual vs Predicted House Prices')\n",
        "plt.show()"
      ],
      "metadata": {
        "colab": {
          "base_uri": "https://localhost:8080/",
          "height": 489
        },
        "id": "b087ucLq58dQ",
        "outputId": "c857506b-e23a-4812-fe66-9ff2110d1803"
      },
      "execution_count": 28,
      "outputs": [
        {
          "output_type": "stream",
          "name": "stdout",
          "text": [
            "Mean Squared Error: 831179135.8889931\n"
          ]
        },
        {
          "output_type": "display_data",
          "data": {
            "text/plain": [
              "<Figure size 640x480 with 1 Axes>"
            ],
            "image/png": "[encoded data removed]"
          },
          "metadata": {}
        }
      ]
    },
    {
      "cell_type": "markdown",
      "source": [
        "# Testing the Model"
      ],
      "metadata": {
        "id": "ADbHnhgI_8OZ"
      }
    },
    {
      "cell_type": "code",
      "source": [
        "# Step 1: Load the test.csv file (new data)\n",
        "test_df = pd.read_csv('/content/drive/My Drive/house_dataset/test.csv')  # Replace with the actual path to your test.csv"
      ],
      "metadata": {
        "id": "9Z4goTUj_-f1"
      },
      "execution_count": 49,
      "outputs": []
    },
    {
      "cell_type": "code",
      "source": [
        "# Step 2: Identify non-numeric columns\n",
        "non_numeric_cols = test_df.select_dtypes(include=['object']).columns\n",
        "print(\"Non-numeric columns:\", non_numeric_cols)"
      ],
      "metadata": {
        "colab": {
          "base_uri": "https://localhost:8080/"
        },
        "id": "zvEtBUQ3BQ7l",
        "outputId": "30f0afa2-0da8-4f69-a088-c0fe6082fa0c"
      },
      "execution_count": 50,
      "outputs": [
        {
          "output_type": "stream",
          "name": "stdout",
          "text": [
            "Non-numeric columns: Index(['MSZoning', 'Street', 'Alley', 'LotShape', 'LandContour', 'Utilities',\n",
            "       'LotConfig', 'LandSlope', 'Neighborhood', 'Condition1', 'Condition2',\n",
            "       'BldgType', 'HouseStyle', 'RoofStyle', 'RoofMatl', 'Exterior1st',\n",
            "       'Exterior2nd', 'MasVnrType', 'ExterQual', 'ExterCond', 'Foundation',\n",
            "       'BsmtQual', 'BsmtCond', 'BsmtExposure', 'BsmtFinType1', 'BsmtFinType2',\n",
            "       'Heating', 'HeatingQC', 'CentralAir', 'Electrical', 'KitchenQual',\n",
            "       'Functional', 'FireplaceQu', 'GarageType', 'GarageFinish', 'GarageQual',\n",
            "       'GarageCond', 'PavedDrive', 'PoolQC', 'Fence', 'MiscFeature',\n",
            "       'SaleType', 'SaleCondition'],\n",
            "      dtype='object')\n"
          ]
        }
      ]
    },
    {
      "cell_type": "code",
      "source": [
        "# Step 3: Encode non-numeric columns (e.g., using LabelEncoder for simplicity)\n",
        "label_encoders = {}\n",
        "for col in non_numeric_cols:\n",
        "    label_encoders[col] = LabelEncoder()\n",
        "    test_df[col] = label_encoders[col].fit_transform(test_df[col].astype(str))  # Encode the strings"
      ],
      "metadata": {
        "id": "HMiReoNcABaZ"
      },
      "execution_count": 51,
      "outputs": []
    },
    {
      "cell_type": "code",
      "source": [
        "# Step 4: Drop 'Id' column and prepare test data\n",
        "test_features = test_df.drop(columns=['Id'])"
      ],
      "metadata": {
        "id": "7eb0OPgdBU9m"
      },
      "execution_count": 52,
      "outputs": []
    },
    {
      "cell_type": "code",
      "source": [
        "# Step 4: Drop 'Id' column and prepare test data\n",
        "test_features = test_df.drop(columns=['Id'])  # Drop 'Id' column"
      ],
      "metadata": {
        "id": "gWZOhK5WC_Mv"
      },
      "execution_count": 53,
      "outputs": []
    },
    {
      "cell_type": "code",
      "source": [
        "# Step 5: Apply imputation on the numeric columns\n",
        "imputer = SimpleImputer(strategy='mean')\n",
        "test_imputed = imputer.fit_transform(test_features)  # Impute missing values"
      ],
      "metadata": {
        "id": "cl5D3OCuBZhu"
      },
      "execution_count": 54,
      "outputs": []
    },
    {
      "cell_type": "code",
      "source": [
        "# Convert to DataFrame to preserve column names\n",
        "test_imputed_df = pd.DataFrame(test_imputed, columns=test_features.columns)\n",
        "# Ensure test_imputed_df has the same columns as X_train\n",
        "test_imputed_df = test_imputed_df.reindex(columns=X_train.columns, fill_value=0)  # Align columns with training data"
      ],
      "metadata": {
        "id": "sdUtUHuhDFDP"
      },
      "execution_count": 55,
      "outputs": []
    },
    {
      "cell_type": "code",
      "source": [
        "# Step 4: Predict the target variable (SalePrice) for the new data\n",
        "test_predictions = model.predict(test_imputed_df)"
      ],
      "metadata": {
        "id": "zineYNPaAIzH"
      },
      "execution_count": 56,
      "outputs": []
    },
    {
      "cell_type": "code",
      "source": [
        "# Step 6: Create a submission DataFrame in the format of sample_submission.csv\n",
        "submission = pd.DataFrame({\n",
        "    'Id': test_df['Id'],  # Use the 'Id' from the original test.csv\n",
        "    'SalePrice': test_predictions  # Predictions made by the model\n",
        "})\n"
      ],
      "metadata": {
        "id": "JejsY_gkALP2"
      },
      "execution_count": 57,
      "outputs": []
    },
    {
      "cell_type": "code",
      "source": [
        "# Step 6: Save the predictions to a CSV file for submission\n",
        "submission.to_csv('/content/drive/My Drive/house_dataset/submission.csv', index=False)  # Replace with your desired output path"
      ],
      "metadata": {
        "id": "HuuhzgdVAOXK"
      },
      "execution_count": 58,
      "outputs": []
    },
    {
      "cell_type": "code",
      "source": [
        "# Display the first few rows of the submission to verify\n",
        "print(submission.head())"
      ],
      "metadata": {
        "colab": {
          "base_uri": "https://localhost:8080/"
        },
        "id": "mSx2NNlZAQvR",
        "outputId": "f1bd424d-e1fd-4cd3-bc4b-304c1e140975"
      },
      "execution_count": 59,
      "outputs": [
        {
          "output_type": "stream",
          "name": "stdout",
          "text": [
            "     Id  SalePrice\n",
            "0  1461  112992.33\n",
            "1  1462  150838.00\n",
            "2  1463  169949.87\n",
            "3  1464  185796.04\n",
            "4  1465  222798.85\n"
          ]
        }
      ]
    },
    {
      "cell_type": "markdown",
      "source": [
        "# Interactive system where a user inputs the required house features and gets a predicted price"
      ],
      "metadata": {
        "id": "8HHZy4EgEGYa"
      }
    },
    {
      "cell_type": "code",
      "source": [
        "# Function to take user input for house features\n",
        "def get_user_input():\n",
        "    print(\"Please enter the house details:\")\n",
        "\n",
        "    # Example input fields (you can add more based on your features)\n",
        "    MSSubClass = int(input(\"Enter the MSSubClass (e.g., 20 for 1-Story 1946 & Newer All Styles): \"))\n",
        "    LotFrontage = float(input(\"Enter the LotFrontage (in feet): \"))\n",
        "    LotArea = float(input(\"Enter the LotArea (in square feet): \"))\n",
        "    OverallQual = int(input(\"Enter the OverallQual (rate the overall quality 1-10): \"))\n",
        "    OverallCond = int(input(\"Enter the OverallCond (rate the overall condition 1-10): \"))\n",
        "    YearBuilt = int(input(\"Enter the YearBuilt (year the house was built): \"))\n",
        "    GrLivArea = float(input(\"Enter the GrLivArea (above ground living area in square feet): \"))\n",
        "    FullBath = int(input(\"Enter the number of FullBath: \"))\n",
        "    GarageCars = int(input(\"Enter the number of GarageCars: \"))\n",
        "\n",
        "    # Add more input fields based on the features in your model\n",
        "\n",
        "    # Create a dictionary of input\n",
        "    user_data = {\n",
        "        'MSSubClass': MSSubClass,\n",
        "        'LotFrontage': LotFrontage,\n",
        "        'LotArea': LotArea,\n",
        "        'OverallQual': OverallQual,\n",
        "        'OverallCond': OverallCond,\n",
        "        'YearBuilt': YearBuilt,\n",
        "        'GrLivArea': GrLivArea,\n",
        "        'FullBath': FullBath,\n",
        "        'GarageCars': GarageCars\n",
        "    }\n",
        "\n",
        "    # Convert to DataFrame\n",
        "    return pd.DataFrame([user_data])"
      ],
      "metadata": {
        "id": "SnuGN6FrEHj3"
      },
      "execution_count": 60,
      "outputs": []
    },
    {
      "cell_type": "code",
      "source": [
        "# Function to make predictions from user input\n",
        "def predict_price(model, user_input_df, X_train_columns):\n",
        "    # Step 1: Impute missing values if any\n",
        "    imputer = SimpleImputer(strategy='mean')\n",
        "    user_imputed = imputer.fit_transform(user_input_df)\n",
        "\n",
        "    # Convert back to DataFrame to preserve column names\n",
        "    user_imputed_df = pd.DataFrame(user_imputed, columns=user_input_df.columns)\n",
        "\n",
        "    # Step 2: Ensure the input has the same columns as the training data\n",
        "    user_imputed_df = user_imputed_df.reindex(columns=X_train_columns, fill_value=0)  # Align with training columns\n",
        "\n",
        "    # Step 3: Predict the house price\n",
        "    predicted_price = model.predict(user_imputed_df)\n",
        "\n",
        "    return predicted_price[0]  # Return the predicted price"
      ],
      "metadata": {
        "id": "FIhGX30LEPFi"
      },
      "execution_count": 61,
      "outputs": []
    },
    {
      "cell_type": "code",
      "source": [
        "\n",
        "# Example usage\n",
        "X_train_columns = X_train.columns  # The columns used during training\n",
        "\n",
        "# Get user input for house features\n",
        "user_input_df = get_user_input()"
      ],
      "metadata": {
        "colab": {
          "base_uri": "https://localhost:8080/"
        },
        "id": "mppJN3WNEPqy",
        "outputId": "b836bdeb-4927-4ef0-e9a9-63575f2dfb9f"
      },
      "execution_count": 62,
      "outputs": [
        {
          "name": "stdout",
          "output_type": "stream",
          "text": [
            "Please enter the house details:\n",
            "Enter the MSSubClass (e.g., 20 for 1-Story 1946 & Newer All Styles): 20\n",
            "Enter the LotFrontage (in feet): 50\n",
            "Enter the LotArea (in square feet): 250\n",
            "Enter the OverallQual (rate the overall quality 1-10): 10\n",
            "Enter the OverallCond (rate the overall condition 1-10): 9\n",
            "Enter the YearBuilt (year the house was built): 2001\n",
            "Enter the GrLivArea (above ground living area in square feet): 50\n",
            "Enter the number of FullBath: 5\n",
            "Enter the number of GarageCars: 4\n"
          ]
        }
      ]
    },
    {
      "cell_type": "code",
      "source": [
        "# Predict the house price based on user input\n",
        "predicted_price = predict_price(model, user_input_df, X_train_columns)\n",
        "\n",
        "# Output the predicted price\n",
        "print(f\"The predicted house price is: ${predicted_price:.2f}\")"
      ],
      "metadata": {
        "colab": {
          "base_uri": "https://localhost:8080/"
        },
        "id": "ObMc6cwUEUWD",
        "outputId": "7818e7bb-1d57-404d-ed6c-66d7a5a2f943"
      },
      "execution_count": 63,
      "outputs": [
        {
          "output_type": "stream",
          "name": "stdout",
          "text": [
            "The predicted house price is: $268529.37\n"
          ]
        }
      ]
    },
    {
      "cell_type": "markdown",
      "source": [
        "# Improving the Model"
      ],
      "metadata": {
        "id": "6VdmCnuXHGxY"
      }
    },
    {
      "cell_type": "markdown",
      "source": [
        "##Step 1: Feature Engineering"
      ],
      "metadata": {
        "id": "PV_odLX1HNst"
      }
    },
    {
      "cell_type": "code",
      "source": [
        "import pandas as pd\n",
        "import numpy as np\n",
        "from sklearn.impute import SimpleImputer\n",
        "from sklearn.preprocessing import LabelEncoder\n",
        "\n",
        "# Load the training dataset\n",
        "train_df = pd.read_csv('/content/drive/My Drive/house_dataset/train.csv')\n",
        "\n",
        "# Create new features\n",
        "train_df['TotalBathrooms'] = train_df['FullBath'] + 0.5 * train_df['HalfBath']\n",
        "train_df['HouseAge'] = train_df['YrSold'] - train_df['YearBuilt']\n",
        "\n",
        "# Log transform skewed features (e.g., SalePrice, GrLivArea)\n",
        "train_df['SalePrice'] = np.log1p(train_df['SalePrice'])\n",
        "train_df['GrLivArea'] = np.log1p(train_df['GrLivArea'])\n",
        "\n",
        "# Separate numeric and categorical columns\n",
        "numeric_cols = train_df.select_dtypes(include=[np.number]).columns.tolist()\n",
        "categorical_cols = train_df.select_dtypes(include=[object]).columns.tolist()\n",
        "\n",
        "# Remove 'SalePrice' and 'Id' from numeric columns\n",
        "numeric_cols.remove('SalePrice')\n",
        "if 'Id' in numeric_cols:\n",
        "    numeric_cols.remove('Id')\n",
        "\n",
        "# Handle missing values for numeric columns using mean imputation\n",
        "imputer_numeric = SimpleImputer(strategy='mean')\n",
        "X_numeric = pd.DataFrame(imputer_numeric.fit_transform(train_df[numeric_cols]), columns=numeric_cols)\n",
        "\n",
        "# Handle missing values for categorical columns using most frequent imputation\n",
        "imputer_categorical = SimpleImputer(strategy='most_frequent')\n",
        "X_categorical = pd.DataFrame(imputer_categorical.fit_transform(train_df[categorical_cols]), columns=categorical_cols)\n",
        "\n",
        "# Encode categorical columns using Label Encoding (or One-Hot Encoding if needed)\n",
        "label_encoders = {}\n",
        "for col in categorical_cols:\n",
        "    le = LabelEncoder()\n",
        "    X_categorical[col] = le.fit_transform(X_categorical[col])\n",
        "    label_encoders[col] = le\n",
        "\n",
        "# Combine numeric and categorical columns\n",
        "X = pd.concat([X_numeric, X_categorical], axis=1)\n",
        "\n",
        "# Set the target variable (SalePrice)\n",
        "y = train_df['SalePrice']\n",
        "\n",
        "# Remove extreme outliers\n",
        "X = X[X['GrLivArea'] < 4500]  # For example, remove large outliers in living area\n",
        "y = y[X['GrLivArea'] < 4500]\n",
        "\n",
        "print(f\"Final feature set shape: {X.shape}\")"
      ],
      "metadata": {
        "colab": {
          "base_uri": "https://localhost:8080/"
        },
        "id": "8BW7guAwKpoz",
        "outputId": "403dc511-bdb4-48dd-e3cd-97b0e437b57e"
      },
      "execution_count": 8,
      "outputs": [
        {
          "output_type": "stream",
          "name": "stdout",
          "text": [
            "Final feature set shape: (1460, 81)\n"
          ]
        }
      ]
    },
    {
      "cell_type": "markdown",
      "source": [
        "## Step 2: Hyperparameter Tuning"
      ],
      "metadata": {
        "id": "-dV9gyGvHbam"
      }
    },
    {
      "cell_type": "code",
      "source": [
        "from sklearn.ensemble import RandomForestRegressor\n",
        "from sklearn.model_selection import RandomizedSearchCV\n",
        "\n",
        "# Define the parameter grid\n",
        "param_grid = {\n",
        "    'n_estimators': [100, 200, 500],\n",
        "    'max_depth': [10, 20, 30, None],\n",
        "    'min_samples_split': [2, 5, 10],\n",
        "    'min_samples_leaf': [1, 2, 4],\n",
        "    'bootstrap': [True, False]\n",
        "}\n",
        "\n",
        "# Initialize the model\n",
        "rf = RandomForestRegressor(random_state=42)\n",
        "\n",
        "# Perform RandomizedSearchCV with verbose progress updates\n",
        "rf_random = RandomizedSearchCV(estimator=rf, param_distributions=param_grid,\n",
        "                               n_iter=100, cv=3, verbose=2, random_state=42, n_jobs=-1)\n",
        "\n",
        "# Train the model with hyperparameter tuning\n",
        "rf_random.fit(X, y)\n",
        "\n",
        "# Get the best parameters\n",
        "best_rf_model = rf_random.best_estimator_\n",
        "\n",
        "print(f\"Best RandomForest parameters: {rf_random.best_params_}\")"
      ],
      "metadata": {
        "colab": {
          "base_uri": "https://localhost:8080/"
        },
        "id": "fao5MU00KqLX",
        "outputId": "d2423cd1-e1cf-4766-aa9f-4900e80933a1"
      },
      "execution_count": 12,
      "outputs": [
        {
          "output_type": "stream",
          "name": "stdout",
          "text": [
            "Fitting 3 folds for each of 100 candidates, totalling 300 fits\n",
            "Best RandomForest parameters: {'n_estimators': 500, 'min_samples_split': 2, 'min_samples_leaf': 1, 'max_depth': 30, 'bootstrap': True}\n"
          ]
        }
      ]
    },
    {
      "cell_type": "markdown",
      "source": [
        "## Step 3: Evaluate the tuned Model"
      ],
      "metadata": {
        "id": "3lPgdLqdHkT1"
      }
    },
    {
      "cell_type": "code",
      "source": [
        "from sklearn.model_selection import train_test_split\n",
        "from sklearn.metrics import mean_squared_error\n",
        "\n",
        "# Split the data into training and validation sets\n",
        "X_train, X_val, y_train, y_val = train_test_split(X, y, test_size=0.2, random_state=42)\n",
        "\n",
        "# Train the best model found by RandomizedSearchCV on the training set\n",
        "best_rf_model.fit(X_train, y_train)\n",
        "\n",
        "# Make predictions on the validation set\n",
        "y_pred_val = best_rf_model.predict(X_val)\n",
        "\n",
        "# Evaluate the model using RMSE\n",
        "rmse_val = np.sqrt(mean_squared_error(y_val, y_pred_val))\n",
        "print(f\"Validation RMSE after tuning: {rmse_val:.4f}\")"
      ],
      "metadata": {
        "colab": {
          "base_uri": "https://localhost:8080/"
        },
        "id": "pOtyhJP7Kqny",
        "outputId": "221a7ebc-733b-4cac-d925-5affd179ecb6"
      },
      "execution_count": 13,
      "outputs": [
        {
          "output_type": "stream",
          "name": "stdout",
          "text": [
            "Validation RMSE after tuning: 0.1454\n"
          ]
        }
      ]
    },
    {
      "cell_type": "markdown",
      "source": [
        "## Step 4: Test Data Prediction"
      ],
      "metadata": {
        "id": "FmwV0q6-Hozg"
      }
    },
    {
      "cell_type": "code",
      "source": [
        "# Load the test dataset\n",
        "test_df = pd.read_csv('/content/drive/My Drive/house_dataset/test.csv')\n",
        "\n",
        "# Create new features in the test data\n",
        "test_df['TotalBathrooms'] = test_df['FullBath'] + 0.5 * test_df['HalfBath']\n",
        "test_df['HouseAge'] = test_df['YrSold'] - test_df['YearBuilt']\n",
        "\n",
        "# Log transform skewed features (e.g., GrLivArea)\n",
        "test_df['GrLivArea'] = np.log1p(test_df['GrLivArea'])\n",
        "\n",
        "# Handle missing values in the test data (same process as training data)\n",
        "X_test_numeric = pd.DataFrame(imputer_numeric.transform(test_df[numeric_cols]), columns=numeric_cols)\n",
        "X_test_categorical = pd.DataFrame(imputer_categorical.transform(test_df[categorical_cols]), columns=categorical_cols)\n",
        "\n",
        "# Label encode the categorical features in the test set using the same encoders\n",
        "for col in categorical_cols:\n",
        "    X_test_categorical[col] = label_encoders[col].transform(X_test_categorical[col])\n",
        "\n",
        "# Combine numeric and categorical test features\n",
        "X_test = pd.concat([X_test_numeric, X_test_categorical], axis=1)\n",
        "\n",
        "# Make predictions using the tuned model\n",
        "test_predictions = best_rf_model.predict(X_test)\n",
        "\n",
        "# Convert predictions back from log scale to original scale\n",
        "test_predictions = np.expm1(test_predictions)\n",
        "\n",
        "# Prepare submission\n",
        "submission = pd.DataFrame({'Id': test_df['Id'], 'SalePrice': test_predictions})\n",
        "submission.to_csv('/content/drive/My Drive/house_dataset/submission_new2.csv', index=False)\n",
        "\n",
        "print(\"Tuned model submission file created: submission.csv\")"
      ],
      "metadata": {
        "colab": {
          "base_uri": "https://localhost:8080/"
        },
        "id": "SVhOohYxKrck",
        "outputId": "9aa138ac-d772-481a-9ebc-e9b82aa8f263"
      },
      "execution_count": 16,
      "outputs": [
        {
          "output_type": "stream",
          "name": "stdout",
          "text": [
            "Tuned model submission file created: submission.csv\n"
          ]
        }
      ]
    },
    {
      "cell_type": "markdown",
      "source": [
        "# RF search model 2 appraoch using GPU xgboost"
      ],
      "metadata": {
        "id": "Ouoq_LoffNiv"
      }
    },
    {
      "cell_type": "code",
      "source": [
        "!pip install xgboost"
      ],
      "metadata": {
        "id": "yXBAfjqlfVlW"
      },
      "execution_count": null,
      "outputs": []
    },
    {
      "cell_type": "code",
      "source": [
        "import xgboost as xgb\n",
        "from sklearn.model_selection import RandomizedSearchCV\n",
        "\n",
        "# Define the parameter grid for XGBoost\n",
        "param_grid = {\n",
        "    'n_estimators': [100, 200, 500, 1000],\n",
        "    'max_depth': [10, 20, 30, None],\n",
        "    'min_child_weight': [1, 2, 4],\n",
        "    'learning_rate': [0.01, 0.05, 0.1],\n",
        "    'subsample': [0.8, 1.0],\n",
        "    'colsample_bytree': [0.8, 1.0],\n",
        "    'gamma': [0, 0.1, 0.2],\n",
        "    'reg_alpha': [0, 0.01, 0.1],\n",
        "    'reg_lambda': [1, 1.5, 2],\n",
        "}\n",
        "\n",
        "# Initialize XGBoost with GPU support\n",
        "xgb_model = xgb.XGBRegressor(tree_method='gpu_hist', random_state=42)\n",
        "\n",
        "# Perform RandomizedSearchCV with updated parameters\n",
        "xgb_random = RandomizedSearchCV(estimator=xgb_model, param_distributions=param_grid,\n",
        "                                n_iter=500, cv=5, verbose=2, random_state=42, n_jobs=-1)\n",
        "\n",
        "# Train the model using GPU\n",
        "xgb_random.fit(X_train, y_train)\n",
        "\n",
        "# Get the best parameters\n",
        "best_xgb_model = xgb_random.best_estimator_\n",
        "\n",
        "print(f\"Best XGBoost parameters: {xgb_random.best_params_}\")"
      ],
      "metadata": {
        "id": "_ph2c37YfVde"
      },
      "execution_count": null,
      "outputs": []
    },
    {
      "cell_type": "code",
      "source": [
        "#1. Save your trained XGBoost model:\n",
        "best_xgb_model.save_model('xgb_model.json')  # Save the trained model to a file"
      ],
      "metadata": {
        "id": "zZrkDV35fVba"
      },
      "execution_count": null,
      "outputs": []
    },
    {
      "cell_type": "code",
      "source": [
        "#2. Load the pre-trained model and continue training:\n",
        "# Load the saved model\n",
        "loaded_xgb_model = xgb.XGBRegressor()\n",
        "loaded_xgb_model.load_model('xgb_model.json')\n",
        "\n",
        "# Continue training with new data or the same data\n",
        "loaded_xgb_model.fit(X_train, y_train, xgb_model=loaded_xgb_model)\n",
        "\n",
        "# Save the continued training model again if needed\n",
        "loaded_xgb_model.save_model('xgb_model_continued.json')"
      ],
      "metadata": {
        "id": "yFqUi1ggfVZL"
      },
      "execution_count": null,
      "outputs": []
    },
    {
      "cell_type": "code",
      "source": [],
      "metadata": {
        "id": "qIlXauL-fVXH"
      },
      "execution_count": null,
      "outputs": []
    },
    {
      "cell_type": "code",
      "source": [],
      "metadata": {
        "id": "TDxlM6s7fVFl"
      },
      "execution_count": null,
      "outputs": []
    },
    {
      "cell_type": "markdown",
      "source": [
        "# Improve Section 2: Combining Models with Stacking"
      ],
      "metadata": {
        "id": "pfLJDQ2cZ8PP"
      }
    },
    {
      "cell_type": "markdown",
      "source": [
        "## Improve Section 2: Combining Models with Stacking"
      ],
      "metadata": {
        "id": "kiqxzdVvaBlP"
      }
    },
    {
      "cell_type": "code",
      "source": [
        "from sklearn.ensemble import RandomForestRegressor, StackingRegressor\n",
        "from xgboost import XGBRegressor\n",
        "from lightgbm import LGBMRegressor\n",
        "from sklearn.model_selection import train_test_split\n",
        "from sklearn.metrics import mean_squared_error\n",
        "import numpy as np\n",
        "\n",
        "# Split the data into training and validation sets\n",
        "X_train, X_val, y_train, y_val = train_test_split(X, y, test_size=0.2, random_state=42)"
      ],
      "metadata": {
        "colab": {
          "base_uri": "https://localhost:8080/"
        },
        "id": "x4S_m9FiZ_WF",
        "outputId": "b78275da-95da-42b1-db91-f0dfc228b719"
      },
      "execution_count": 17,
      "outputs": [
        {
          "output_type": "stream",
          "name": "stderr",
          "text": [
            "/usr/local/lib/python3.10/dist-packages/dask/dataframe/__init__.py:42: FutureWarning: \n",
            "Dask dataframe query planning is disabled because dask-expr is not installed.\n",
            "\n",
            "You can install it with `pip install dask[dataframe]` or `conda install dask`.\n",
            "This will raise in a future version.\n",
            "\n",
            "  warnings.warn(msg, FutureWarning)\n"
          ]
        }
      ]
    },
    {
      "cell_type": "markdown",
      "source": [
        "## Step 2: Define Individual Models"
      ],
      "metadata": {
        "id": "DcX0Sc3SaHf0"
      }
    },
    {
      "cell_type": "code",
      "source": [
        "# Define individual models\n",
        "rf_model = RandomForestRegressor(n_estimators=200, random_state=42)\n",
        "xgb_model = XGBRegressor(n_estimators=200, learning_rate=0.05, random_state=42)\n",
        "lgbm_model = LGBMRegressor(n_estimators=200, learning_rate=0.05, random_state=42)"
      ],
      "metadata": {
        "id": "9nnq0ACLaKab"
      },
      "execution_count": 18,
      "outputs": []
    },
    {
      "cell_type": "markdown",
      "source": [
        "## Step 3: Create the Stacking Regressor"
      ],
      "metadata": {
        "id": "uB6DmBVraOYa"
      }
    },
    {
      "cell_type": "code",
      "source": [
        "# Create a stacking regressor\n",
        "stack_model = StackingRegressor(\n",
        "    estimators=[('rf', rf_model), ('xgb', xgb_model), ('lgbm', lgbm_model)],\n",
        "    final_estimator=RandomForestRegressor(n_estimators=100, random_state=42)\n",
        ")\n",
        "\n",
        "# Train stacking model on the training data\n",
        "stack_model.fit(X_train, y_train)"
      ],
      "metadata": {
        "colab": {
          "base_uri": "https://localhost:8080/",
          "height": 773
        },
        "id": "9Us97fEXaSKy",
        "outputId": "8ab77849-9ebf-49fe-f205-9f0991dc94ab"
      },
      "execution_count": 19,
      "outputs": [
        {
          "output_type": "stream",
          "name": "stdout",
          "text": [
            "[LightGBM] [Info] Auto-choosing row-wise multi-threading, the overhead of testing was 0.000901 seconds.\n",
            "You can set `force_row_wise=true` to remove the overhead.\n",
            "And if memory is not enough, you can set `force_col_wise=true`.\n",
            "[LightGBM] [Info] Total Bins 3223\n",
            "[LightGBM] [Info] Number of data points in the train set: 1168, number of used features: 74\n",
            "[LightGBM] [Info] Start training from score 12.030658\n",
            "[LightGBM] [Info] Auto-choosing row-wise multi-threading, the overhead of testing was 0.000482 seconds.\n",
            "You can set `force_row_wise=true` to remove the overhead.\n",
            "And if memory is not enough, you can set `force_col_wise=true`.\n",
            "[LightGBM] [Info] Total Bins 3003\n",
            "[LightGBM] [Info] Number of data points in the train set: 934, number of used features: 72\n",
            "[LightGBM] [Info] Start training from score 12.029314\n",
            "[LightGBM] [Info] Auto-choosing row-wise multi-threading, the overhead of testing was 0.000463 seconds.\n",
            "You can set `force_row_wise=true` to remove the overhead.\n",
            "And if memory is not enough, you can set `force_col_wise=true`.\n",
            "[LightGBM] [Info] Total Bins 2994\n",
            "[LightGBM] [Info] Number of data points in the train set: 934, number of used features: 72\n",
            "[LightGBM] [Info] Start training from score 12.020798\n",
            "[LightGBM] [Info] Auto-choosing row-wise multi-threading, the overhead of testing was 0.000444 seconds.\n",
            "You can set `force_row_wise=true` to remove the overhead.\n",
            "And if memory is not enough, you can set `force_col_wise=true`.\n",
            "[LightGBM] [Info] Total Bins 2999\n",
            "[LightGBM] [Info] Number of data points in the train set: 934, number of used features: 71\n",
            "[LightGBM] [Info] Start training from score 12.041228\n",
            "[LightGBM] [Info] Auto-choosing row-wise multi-threading, the overhead of testing was 0.000447 seconds.\n",
            "You can set `force_row_wise=true` to remove the overhead.\n",
            "And if memory is not enough, you can set `force_col_wise=true`.\n",
            "[LightGBM] [Info] Total Bins 3000\n",
            "[LightGBM] [Info] Number of data points in the train set: 935, number of used features: 72\n",
            "[LightGBM] [Info] Start training from score 12.034291\n",
            "[LightGBM] [Info] Auto-choosing row-wise multi-threading, the overhead of testing was 0.000429 seconds.\n",
            "You can set `force_row_wise=true` to remove the overhead.\n",
            "And if memory is not enough, you can set `force_col_wise=true`.\n",
            "[LightGBM] [Info] Total Bins 2996\n",
            "[LightGBM] [Info] Number of data points in the train set: 935, number of used features: 72\n",
            "[LightGBM] [Info] Start training from score 12.027659\n"
          ]
        },
        {
          "output_type": "execute_result",
          "data": {
            "text/plain": [
              "StackingRegressor(estimators=[('rf',\n",
              "                               RandomForestRegressor(n_estimators=200,\n",
              "                                                     random_state=42)),\n",
              "                              ('xgb',\n",
              "                               XGBRegressor(base_score=None, booster=None,\n",
              "                                            callbacks=None,\n",
              "                                            colsample_bylevel=None,\n",
              "                                            colsample_bynode=None,\n",
              "                                            colsample_bytree=None, device=None,\n",
              "                                            early_stopping_rounds=None,\n",
              "                                            enable_categorical=False,\n",
              "                                            eval_metric=None,\n",
              "                                            feature_types=None, gamma=None,\n",
              "                                            grow_policy=Non...\n",
              "                                            max_cat_to_onehot=None,\n",
              "                                            max_delta_step=None, max_depth=None,\n",
              "                                            max_leaves=None,\n",
              "                                            min_child_weight=None, missing=nan,\n",
              "                                            monotone_constraints=None,\n",
              "                                            multi_strategy=None,\n",
              "                                            n_estimators=200, n_jobs=None,\n",
              "                                            num_parallel_tree=None,\n",
              "                                            random_state=42, ...)),\n",
              "                              ('lgbm',\n",
              "                               LGBMRegressor(learning_rate=0.05,\n",
              "                                             n_estimators=200,\n",
              "                                             random_state=42))],\n",
              "                  final_estimator=RandomForestRegressor(random_state=42))"
            ],
            "text/html": [
              "<style>#sk-container-id-1 {color: black;}#sk-container-id-1 pre{padding: 0;}#sk-container-id-1 div.sk-toggleable {background-color: white;}#sk-container-id-1 label.sk-toggleable__label {cursor: pointer;display: block;width: 100%;margin-bottom: 0;padding: 0.3em;box-sizing: border-box;text-align: center;}#sk-container-id-1 label.sk-toggleable__label-arrow:before {content: \"▸\";float: left;margin-right: 0.25em;color: #696969;}#sk-container-id-1 label.sk-toggleable__label-arrow:hover:before {color: black;}#sk-container-id-1 div.sk-estimator:hover label.sk-toggleable__label-arrow:before {color: black;}#sk-container-id-1 div.sk-toggleable__content {max-height: 0;max-width: 0;overflow: hidden;text-align: left;background-color: #f0f8ff;}#sk-container-id-1 div.sk-toggleable__content pre {margin: 0.2em;color: black;border-radius: 0.25em;background-color: #f0f8ff;}#sk-container-id-1 input.sk-toggleable__control:checked~div.sk-toggleable__content {max-height: 200px;max-width: 100%;overflow: auto;}#sk-container-id-1 input.sk-toggleable__control:checked~label.sk-toggleable__label-arrow:before {content: \"▾\";}#sk-container-id-1 div.sk-estimator input.sk-toggleable__control:checked~label.sk-toggleable__label {background-color: #d4ebff;}#sk-container-id-1 div.sk-label input.sk-toggleable__control:checked~label.sk-toggleable__label {background-color: #d4ebff;}#sk-container-id-1 input.sk-hidden--visually {border: 0;clip: rect(1px 1px 1px 1px);clip: rect(1px, 1px, 1px, 1px);height: 1px;margin: -1px;overflow: hidden;padding: 0;position: absolute;width: 1px;}#sk-container-id-1 div.sk-estimator {font-family: monospace;background-color: #f0f8ff;border: 1px dotted black;border-radius: 0.25em;box-sizing: border-box;margin-bottom: 0.5em;}#sk-container-id-1 div.sk-estimator:hover {background-color: #d4ebff;}#sk-container-id-1 div.sk-parallel-item::after {content: \"\";width: 100%;border-bottom: 1px solid gray;flex-grow: 1;}#sk-container-id-1 div.sk-label:hover label.sk-toggleable__label {background-color: #d4ebff;}#sk-container-id-1 div.sk-serial::before {content: \"\";position: absolute;border-left: 1px solid gray;box-sizing: border-box;top: 0;bottom: 0;left: 50%;z-index: 0;}#sk-container-id-1 div.sk-serial {display: flex;flex-direction: column;align-items: center;background-color: white;padding-right: 0.2em;padding-left: 0.2em;position: relative;}#sk-container-id-1 div.sk-item {position: relative;z-index: 1;}#sk-container-id-1 div.sk-parallel {display: flex;align-items: stretch;justify-content: center;background-color: white;position: relative;}#sk-container-id-1 div.sk-item::before, #sk-container-id-1 div.sk-parallel-item::before {content: \"\";position: absolute;border-left: 1px solid gray;box-sizing: border-box;top: 0;bottom: 0;left: 50%;z-index: -1;}#sk-container-id-1 div.sk-parallel-item {display: flex;flex-direction: column;z-index: 1;position: relative;background-color: white;}#sk-container-id-1 div.sk-parallel-item:first-child::after {align-self: flex-end;width: 50%;}#sk-container-id-1 div.sk-parallel-item:last-child::after {align-self: flex-start;width: 50%;}#sk-container-id-1 div.sk-parallel-item:only-child::after {width: 0;}#sk-container-id-1 div.sk-dashed-wrapped {border: 1px dashed gray;margin: 0 0.4em 0.5em 0.4em;box-sizing: border-box;padding-bottom: 0.4em;background-color: white;}#sk-container-id-1 div.sk-label label {font-family: monospace;font-weight: bold;display: inline-block;line-height: 1.2em;}#sk-container-id-1 div.sk-label-container {text-align: center;}#sk-container-id-1 div.sk-container {/* jupyter's `normalize.less` sets `[hidden] { display: none; }` but bootstrap.min.css set `[hidden] { display: none !important; }` so we also need the `!important` here to be able to override the default hidden behavior on the sphinx rendered scikit-learn.org. See: https://github.com/scikit-learn/scikit-learn/issues/21755 */display: inline-block !important;position: relative;}#sk-container-id-1 div.sk-text-repr-fallback {display: none;}</style><div id=\"sk-container-id-1\" class=\"sk-top-container\"><div class=\"sk-text-repr-fallback\"><pre>StackingRegressor(estimators=[(&#x27;rf&#x27;,\n",
              "                               RandomForestRegressor(n_estimators=200,\n",
              "                                                     random_state=42)),\n",
              "                              (&#x27;xgb&#x27;,\n",
              "                               XGBRegressor(base_score=None, booster=None,\n",
              "                                            callbacks=None,\n",
              "                                            colsample_bylevel=None,\n",
              "                                            colsample_bynode=None,\n",
              "                                            colsample_bytree=None, device=None,\n",
              "                                            early_stopping_rounds=None,\n",
              "                                            enable_categorical=False,\n",
              "                                            eval_metric=None,\n",
              "                                            feature_types=None, gamma=None,\n",
              "                                            grow_policy=Non...\n",
              "                                            max_cat_to_onehot=None,\n",
              "                                            max_delta_step=None, max_depth=None,\n",
              "                                            max_leaves=None,\n",
              "                                            min_child_weight=None, missing=nan,\n",
              "                                            monotone_constraints=None,\n",
              "                                            multi_strategy=None,\n",
              "                                            n_estimators=200, n_jobs=None,\n",
              "                                            num_parallel_tree=None,\n",
              "                                            random_state=42, ...)),\n",
              "                              (&#x27;lgbm&#x27;,\n",
              "                               LGBMRegressor(learning_rate=0.05,\n",
              "                                             n_estimators=200,\n",
              "                                             random_state=42))],\n",
              "                  final_estimator=RandomForestRegressor(random_state=42))</pre><b>In a Jupyter environment, please rerun this cell to show the HTML representation or trust the notebook. <br />On GitHub, the HTML representation is unable to render, please try loading this page with nbviewer.org.</b></div><div class=\"sk-container\" hidden><div class=\"sk-item sk-dashed-wrapped\"><div class=\"sk-label-container\"><div class=\"sk-label sk-toggleable\"><input class=\"sk-toggleable__control sk-hidden--visually\" id=\"sk-estimator-id-1\" type=\"checkbox\" ><label for=\"sk-estimator-id-1\" class=\"sk-toggleable__label sk-toggleable__label-arrow\">StackingRegressor</label><div class=\"sk-toggleable__content\"><pre>StackingRegressor(estimators=[(&#x27;rf&#x27;,\n",
              "                               RandomForestRegressor(n_estimators=200,\n",
              "                                                     random_state=42)),\n",
              "                              (&#x27;xgb&#x27;,\n",
              "                               XGBRegressor(base_score=None, booster=None,\n",
              "                                            callbacks=None,\n",
              "                                            colsample_bylevel=None,\n",
              "                                            colsample_bynode=None,\n",
              "                                            colsample_bytree=None, device=None,\n",
              "                                            early_stopping_rounds=None,\n",
              "                                            enable_categorical=False,\n",
              "                                            eval_metric=None,\n",
              "                                            feature_types=None, gamma=None,\n",
              "                                            grow_policy=Non...\n",
              "                                            max_cat_to_onehot=None,\n",
              "                                            max_delta_step=None, max_depth=None,\n",
              "                                            max_leaves=None,\n",
              "                                            min_child_weight=None, missing=nan,\n",
              "                                            monotone_constraints=None,\n",
              "                                            multi_strategy=None,\n",
              "                                            n_estimators=200, n_jobs=None,\n",
              "                                            num_parallel_tree=None,\n",
              "                                            random_state=42, ...)),\n",
              "                              (&#x27;lgbm&#x27;,\n",
              "                               LGBMRegressor(learning_rate=0.05,\n",
              "                                             n_estimators=200,\n",
              "                                             random_state=42))],\n",
              "                  final_estimator=RandomForestRegressor(random_state=42))</pre></div></div></div><div class=\"sk-serial\"><div class=\"sk-item\"><div class=\"sk-parallel\"><div class=\"sk-parallel-item\"><div class=\"sk-item\"><div class=\"sk-label-container\"><div class=\"sk-label sk-toggleable\"><label>rf</label></div></div><div class=\"sk-serial\"><div class=\"sk-item\"><div class=\"sk-estimator sk-toggleable\"><input class=\"sk-toggleable__control sk-hidden--visually\" id=\"sk-estimator-id-2\" type=\"checkbox\" ><label for=\"sk-estimator-id-2\" class=\"sk-toggleable__label sk-toggleable__label-arrow\">RandomForestRegressor</label><div class=\"sk-toggleable__content\"><pre>RandomForestRegressor(n_estimators=200, random_state=42)</pre></div></div></div></div></div></div><div class=\"sk-parallel-item\"><div class=\"sk-item\"><div class=\"sk-label-container\"><div class=\"sk-label sk-toggleable\"><label>xgb</label></div></div><div class=\"sk-serial\"><div class=\"sk-item\"><div class=\"sk-estimator sk-toggleable\"><input class=\"sk-toggleable__control sk-hidden--visually\" id=\"sk-estimator-id-3\" type=\"checkbox\" ><label for=\"sk-estimator-id-3\" class=\"sk-toggleable__label sk-toggleable__label-arrow\">XGBRegressor</label><div class=\"sk-toggleable__content\"><pre>XGBRegressor(base_score=None, booster=None, callbacks=None,\n",
              "             colsample_bylevel=None, colsample_bynode=None,\n",
              "             colsample_bytree=None, device=None, early_stopping_rounds=None,\n",
              "             enable_categorical=False, eval_metric=None, feature_types=None,\n",
              "             gamma=None, grow_policy=None, importance_type=None,\n",
              "             interaction_constraints=None, learning_rate=0.05, max_bin=None,\n",
              "             max_cat_threshold=None, max_cat_to_onehot=None,\n",
              "             max_delta_step=None, max_depth=None, max_leaves=None,\n",
              "             min_child_weight=None, missing=nan, monotone_constraints=None,\n",
              "             multi_strategy=None, n_estimators=200, n_jobs=None,\n",
              "             num_parallel_tree=None, random_state=42, ...)</pre></div></div></div></div></div></div><div class=\"sk-parallel-item\"><div class=\"sk-item\"><div class=\"sk-label-container\"><div class=\"sk-label sk-toggleable\"><label>lgbm</label></div></div><div class=\"sk-serial\"><div class=\"sk-item\"><div class=\"sk-estimator sk-toggleable\"><input class=\"sk-toggleable__control sk-hidden--visually\" id=\"sk-estimator-id-4\" type=\"checkbox\" ><label for=\"sk-estimator-id-4\" class=\"sk-toggleable__label sk-toggleable__label-arrow\">LGBMRegressor</label><div class=\"sk-toggleable__content\"><pre>LGBMRegressor(learning_rate=0.05, n_estimators=200, random_state=42)</pre></div></div></div></div></div></div></div></div><div class=\"sk-item\"><div class=\"sk-parallel\"><div class=\"sk-parallel-item\"><div class=\"sk-item\"><div class=\"sk-label-container\"><div class=\"sk-label sk-toggleable\"><label>final_estimator</label></div></div><div class=\"sk-serial\"><div class=\"sk-item\"><div class=\"sk-estimator sk-toggleable\"><input class=\"sk-toggleable__control sk-hidden--visually\" id=\"sk-estimator-id-5\" type=\"checkbox\" ><label for=\"sk-estimator-id-5\" class=\"sk-toggleable__label sk-toggleable__label-arrow\">RandomForestRegressor</label><div class=\"sk-toggleable__content\"><pre>RandomForestRegressor(random_state=42)</pre></div></div></div></div></div></div></div></div></div></div></div></div>"
            ]
          },
          "metadata": {},
          "execution_count": 19
        }
      ]
    },
    {
      "cell_type": "markdown",
      "source": [
        "## Step 4: Evaluate the Stacking Model"
      ],
      "metadata": {
        "id": "_4I-bqjIaT6p"
      }
    },
    {
      "cell_type": "code",
      "source": [
        "# Make predictions on the validation set\n",
        "y_pred_val = stack_model.predict(X_val)\n",
        "\n",
        "# Evaluate the model using RMSE\n",
        "rmse_val = np.sqrt(mean_squared_error(y_val, y_pred_val))\n",
        "print(f\"Validation RMSE after stacking: {rmse_val:.4f}\")"
      ],
      "metadata": {
        "colab": {
          "base_uri": "https://localhost:8080/"
        },
        "id": "GqizpLg6aWh1",
        "outputId": "692681bf-3ab3-4489-8960-834d7698ad9e"
      },
      "execution_count": 20,
      "outputs": [
        {
          "output_type": "stream",
          "name": "stdout",
          "text": [
            "Validation RMSE after stacking: 0.1592\n"
          ]
        }
      ]
    },
    {
      "cell_type": "markdown",
      "source": [
        "## Step 5: Predict on the Test Data"
      ],
      "metadata": {
        "id": "-_1J3iswaYR9"
      }
    },
    {
      "cell_type": "code",
      "source": [
        "from sklearn.impute import SimpleImputer\n",
        "from sklearn.preprocessing import OneHotEncoder\n",
        "\n",
        "# Step 1: Separate numeric and categorical columns\n",
        "numeric_cols = test_features.select_dtypes(include=['float64', 'int64']).columns\n",
        "categorical_cols = test_features.select_dtypes(include=['object']).columns\n",
        "\n",
        "# Step 2: Impute missing values in numeric columns\n",
        "imputer_numeric = SimpleImputer(strategy='mean')\n",
        "test_numeric_imputed = imputer_numeric.fit_transform(test_features[numeric_cols])\n",
        "\n",
        "# Step 3: Handle categorical columns with mode imputation and OneHotEncoding\n",
        "imputer_categorical = SimpleImputer(strategy='most_frequent')\n",
        "test_categorical_imputed = imputer_categorical.fit_transform(test_features[categorical_cols])\n",
        "\n",
        "# One-hot encode categorical columns\n",
        "encoder = OneHotEncoder(handle_unknown='ignore', sparse=False)\n",
        "test_categorical_encoded = encoder.fit_transform(test_categorical_imputed)\n",
        "\n",
        "# Step 4: Combine numeric and categorical columns into a single DataFrame\n",
        "test_imputed_combined = np.hstack([test_numeric_imputed, test_categorical_encoded])\n",
        "test_imputed_df = pd.DataFrame(test_imputed_combined, columns=list(numeric_cols) + list(encoder.get_feature_names_out(categorical_cols)))\n",
        "\n",
        "# Ensure the test features have the same columns as the training data\n",
        "X_train_columns = X_train.columns  # Assuming X_train was processed similarly to training data\n",
        "missing_cols = [col for col in X_train_columns if col not in test_imputed_df.columns]\n",
        "\n",
        "# Add any missing columns to the test_imputed_df\n",
        "for col in missing_cols:\n",
        "    test_imputed_df[col] = 0\n",
        "\n",
        "# Reorder the columns to match the order of X_train\n",
        "test_imputed_df = test_imputed_df[X_train_columns]\n",
        "\n",
        "# Step 5: Predict the target variable (SalePrice) for the test data using the trained model\n",
        "test_predictions = stack_model.predict(test_imputed_df)\n",
        "\n",
        "# Convert back from log-transformed values to actual values (if applicable)\n",
        "test_predictions_final = np.expm1(test_predictions)\n",
        "\n",
        "# Step 6: Prepare the submission file\n",
        "submission = pd.DataFrame({'Id': test_df['Id'], 'SalePrice': test_predictions_final})\n",
        "submission.to_csv('/content/drive/My Drive/house_dataset/submission4.csv', index=False)\n",
        "\n",
        "print(\"Submission file saved successfully!\")\n"
      ],
      "metadata": {
        "colab": {
          "base_uri": "https://localhost:8080/"
        },
        "id": "xZuBDWXFaa87",
        "outputId": "86ae795c-af6d-47ec-8e84-da4aa462dc90"
      },
      "execution_count": 24,
      "outputs": [
        {
          "output_type": "stream",
          "name": "stdout",
          "text": [
            "Submission file saved successfully!\n"
          ]
        },
        {
          "output_type": "stream",
          "name": "stderr",
          "text": [
            "/usr/local/lib/python3.10/dist-packages/sklearn/preprocessing/_encoders.py:975: FutureWarning: `sparse` was renamed to `sparse_output` in version 1.2 and will be removed in 1.4. `sparse_output` is ignored unless you leave `sparse` to its default value.\n",
            "  warnings.warn(\n"
          ]
        }
      ]
    }
  ]
}